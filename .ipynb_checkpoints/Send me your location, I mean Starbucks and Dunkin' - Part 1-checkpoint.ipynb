{
 "cells": [
  {
   "cell_type": "markdown",
   "metadata": {},
   "source": [
    "# A glance at locations"
   ]
  },
  {
   "cell_type": "markdown",
   "metadata": {},
   "source": [
    "*A brief document of function usage is attached at the bottom*"
   ]
  },
  {
   "cell_type": "code",
   "execution_count": null,
   "metadata": {
    "collapsed": true
   },
   "outputs": [],
   "source": [
    "import pandas as pd\n",
    "import numpy as np\n",
    "import gmaps\n",
    "import settings"
   ]
  },
  {
   "cell_type": "code",
   "execution_count": null,
   "metadata": {
    "collapsed": true
   },
   "outputs": [],
   "source": [
    "gmaps.configure(api_key= settings.API_KEY)\n",
    "nearby = pd.read_pickle('./data/nearby.pkl')"
   ]
  },
  {
   "cell_type": "markdown",
   "metadata": {},
   "source": [
    "## Dunkin' wins in number, even within major battlefields"
   ]
  },
  {
   "cell_type": "markdown",
   "metadata": {},
   "source": [
    "150:79! Dunkin' nearly doubles the number of Starbucks in *Boston*[1]. It could be the result of different ownership types and target markets. However, even in *major commercial areas*[2], it is still easier to find a Dunkin'."
   ]
  },
  {
   "cell_type": "code",
   "execution_count": null,
   "metadata": {
    "collapsed": true,
    "scrolled": true
   },
   "outputs": [],
   "source": [
    "commercial = ['Boston  (Beacon  Hill)', 'Boston (Chinatown/ Tufts Medical)', 'Boston (Faneuil Hall marketplace/ north end)', \n",
    "              'Boston (downtown crossing/ financial district)', 'Boston Back Bay', 'Boston Fenway', 'Boston Kenmore', \n",
    "              'Boston Seaport', 'Boston West End', 'East Boston']\n",
    "nearby['commercial'] = pd.Series([region in commercial for region in nearby.region], index = nearby.index)\n",
    "pd.pivot_table(nearby, \n",
    "               index= 'commercial', columns='type', values='id', \n",
    "               aggfunc=len, fill_value = 0, margins = True)"
   ]
  },
  {
   "cell_type": "markdown",
   "metadata": {},
   "source": [
    "Dunkin' covers almost wherever there's a Starbucks shop. Suppose our tolerance of walking to a coffeehouse is only about 10 minutes. Each germ-like colored area in map represents the region with a coffeehouse covered. (Red is for Dunkin' and green is for Starbucks) Except the southwest Brookline area, Dunkin' totally wins Starbucks in the number of stores in Boston."
   ]
  },
  {
   "cell_type": "code",
   "execution_count": null,
   "metadata": {
    "collapsed": true,
    "scrolled": false
   },
   "outputs": [],
   "source": [
    "#Get the RGBA value from matplotlib color map\n",
    "from matplotlib import cm\n",
    "def pick_color(color, rank):\n",
    "    if rank == 0:\n",
    "        return (255, 255, 255, 0)\n",
    "    if color == 'red':\n",
    "        return ( tuple( [int(cm.Reds(int(255*(rank)/10))[i]*255) for i in range(3)]) + (1,) )\n",
    "    if color == 'green':\n",
    "        return ( tuple( [int(cm.Greens(int(255*(rank)/10))[i]*255) for i in range(3)]) + (1,) )"
   ]
  },
  {
   "cell_type": "code",
   "execution_count": null,
   "metadata": {
    "collapsed": true,
    "scrolled": false
   },
   "outputs": [],
   "source": [
    "fig = gmaps.figure(center = (42.336859, -71.076140), zoom_level = 11)\n",
    "starbucks_layer = gmaps.heatmap_layer(nearby[['lat','lon']][nearby.type=='starbucks'].values, \n",
    "                                      point_radius = 30, dissipating = True, max_intensity = 2, \n",
    "                                      gradient = [pick_color('green',i) for i in range(11)])\n",
    "\n",
    "dunkindonuts_layer = gmaps.heatmap_layer(nearby[['lat','lon']][nearby.type=='dunkin'].values, \n",
    "                                         point_radius = 30, dissipating = True,max_intensity = 2, \n",
    "                                         gradient = [pick_color('red',i) for i in range(11)])\n",
    "\n",
    "fig.add_layer(starbucks_layer)\n",
    "fig.add_layer(dunkindonuts_layer)\n",
    "fig"
   ]
  },
  {
   "cell_type": "markdown",
   "metadata": {},
   "source": [
    "Red for Dunkin'/ Green for Starbucks"
   ]
  },
  {
   "cell_type": "markdown",
   "metadata": {},
   "source": [
    "## Dunkin', a coffeehouse next door. Starbucks, another place for work"
   ]
  },
  {
   "cell_type": "markdown",
   "metadata": {},
   "source": [
    "Compared with Starbucks' strong preference of commercial area, Dunkin's stores are also scattered evenly alongside some main streets in residential areas. That makes life easier to get something near home before you go to work. However, you can still find Starbucks' stores easily in downtown area and bay area, where offices and tourists are densely concentrated.\n",
    "\n",
    "Besides downtown area and bay area, airport is another battlefield. Think about it. How many times have you got breakfast from any of them when you had to take an early flight?"
   ]
  },
  {
   "cell_type": "code",
   "execution_count": null,
   "metadata": {
    "collapsed": true,
    "scrolled": false
   },
   "outputs": [],
   "source": [
    "fig = gmaps.figure(center = (42.336859, -71.076140), zoom_level = 11)\n",
    "dunkindonuts_layer = gmaps.heatmap_layer(nearby[['lat','lon']][nearby.type=='dunkin'].values, \n",
    "                                      point_radius = 30, dissipating = True, max_intensity = 7)\n",
    "fig.add_layer(dunkindonuts_layer)\n",
    "fig"
   ]
  },
  {
   "cell_type": "code",
   "execution_count": null,
   "metadata": {
    "collapsed": true,
    "scrolled": true
   },
   "outputs": [],
   "source": [
    "fig = gmaps.figure(center = (42.336859, -71.076140), zoom_level = 11)\n",
    "starbucks_layer = gmaps.heatmap_layer(nearby[['lat','lon']][nearby.type=='starbucks'].values, \n",
    "                                      point_radius = 30, dissipating = True, max_intensity = 7)\n",
    "fig.add_layer(starbucks_layer)\n",
    "fig"
   ]
  },
  {
   "cell_type": "markdown",
   "metadata": {},
   "source": [
    "## Next store?"
   ]
  },
  {
   "cell_type": "markdown",
   "metadata": {},
   "source": [
    "If pick up a new location for Dunkin', South Brookline or Southwest Brookline might be good choices. There are not too many coffeehouses. Besides, Route 9 is a major east–west state highway in Massachusetts. \n",
    "\n",
    "For Starbucks, Charlestown region might be good as well. It is one of fast developing places in Boston. Besides, Medical schools and luxury condos will bring Starbucks customers with needs and consuming capacity."
   ]
  },
  {
   "cell_type": "markdown",
   "metadata": {},
   "source": [
    "## Almost saturated"
   ]
  },
  {
   "cell_type": "markdown",
   "metadata": {},
   "source": [
    "But as customers, do we need more Dunkin' or Starbucks in Boston? Hell, no. Only the region in purple circle is not covered by any of them. But remember, we are talking about service within walking distance. People still can drive. Thus the market is almost saturated if customers don't have a strong preference."
   ]
  },
  {
   "cell_type": "code",
   "execution_count": null,
   "metadata": {
    "collapsed": true
   },
   "outputs": [],
   "source": [
    "fig = gmaps.figure(center = (42.336859, -71.076140), zoom_level = 11)\n",
    "whole_layer = gmaps.heatmap_layer(nearby[['lat','lon']].values, \n",
    "                                  point_radius = 30, dissipating = True, max_intensity = 7)\n",
    "fig.add_layer(whole_layer)\n",
    "fig"
   ]
  },
  {
   "cell_type": "markdown",
   "metadata": {
    "collapsed": true
   },
   "source": [
    "# What's next?"
   ]
  },
  {
   "cell_type": "markdown",
   "metadata": {},
   "source": [
    "You will have a deeper understanding of what kind of community that Starbucks or Dunkin' prefer. A community will be defined as a combination of different types of merchants. Do they prefer to open a store with a car repair store in the neighborhood? Or do they love to open a store in the region where there are more pricey restaurants than cheap restaurants? Bayesian Analysis will be used to find which merchant is Starbucks favorite and whether there is a consistent preference for Dunkin's owners."
   ]
  },
  {
   "cell_type": "markdown",
   "metadata": {},
   "source": [
    "[1] [Boston Region by Zip Code and Neighborhood - Mass.gov](https://www.google.com/url?sa=t&rct=j&q=&esrc=s&source=web&cd=6&cad=rja&uact=8&ved=0ahUKEwjem9KM1rrWAhUHTSYKHcl7C8sQFgjXATAF&url=http%3A%2F%2Fwww.mass.gov%2Feohhs%2Fdocs%2Fdcf%2Fboston-office-by-zipcode.xls&usg=AFQjCNHnNW6W-SOIr1AL6H5w4Q_hKsVW7Q) \n",
    "\n",
    "[2] Major commercial regions include Beacon Hill, Chinatown, Tufts Medical, Faneuil Hall marketplace, north end, downtown crossing, financial district, Back Bay, Fenway, Kenmore, Seaport, West End and airport."
   ]
  },
  {
   "cell_type": "markdown",
   "metadata": {},
   "source": [
    "---"
   ]
  },
  {
   "cell_type": "markdown",
   "metadata": {},
   "source": [
    "# Documentation"
   ]
  },
  {
   "cell_type": "markdown",
   "metadata": {},
   "source": [
    "**Name**: pick_color\n",
    "\n",
    "**Capability**: \n",
    "Get the RGBA value from matplotlib color map\n",
    "\n",
    "**Input**:\n",
    "\n",
    "|variable|Type|Description|\n",
    "|:------|:---|:--------|\n",
    "|color|string|Name of color map|\n",
    "|rank|int|The rank of color within a color map|\n",
    "\n",
    "**Output**: The RGBA value of a given rank in a color mao"
   ]
  }
 ],
 "metadata": {
  "kernelspec": {
   "display_name": "Python 3",
   "language": "python",
   "name": "python3"
  },
  "language_info": {
   "codemirror_mode": {
    "name": "ipython",
    "version": 3
   },
   "file_extension": ".py",
   "mimetype": "text/x-python",
   "name": "python",
   "nbconvert_exporter": "python",
   "pygments_lexer": "ipython3",
   "version": "3.5.2"
  }
 },
 "nbformat": 4,
 "nbformat_minor": 2
}
